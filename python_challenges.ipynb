{
  "nbformat": 4,
  "nbformat_minor": 0,
  "metadata": {
    "colab": {
      "name": "python_challenges.ipynb",
      "provenance": [],
      "authorship_tag": "ABX9TyP2qIsiPDCl3yRXnEdZCs5x",
      "include_colab_link": true
    },
    "kernelspec": {
      "name": "python3",
      "display_name": "Python 3"
    }
  },
  "cells": [
    {
      "cell_type": "markdown",
      "metadata": {
        "id": "view-in-github",
        "colab_type": "text"
      },
      "source": [
        "<a href=\"https://colab.research.google.com/github/Soot3/Bertelsmann-Scholarship/blob/main/python_challenges.ipynb\" target=\"_parent\"><img src=\"https://colab.research.google.com/assets/colab-badge.svg\" alt=\"Open In Colab\"/></a>"
      ]
    },
    {
      "cell_type": "code",
      "metadata": {
        "colab": {
          "base_uri": "https://localhost:8080/"
        },
        "id": "mGLdX-FUSYOB",
        "outputId": "9fdf238e-bf53-4e6c-8591-6c06cbbad604"
      },
      "source": [
        "#even odd inputted number\r\n",
        "inputted_no = input(\"Send in a number \\n\")\r\n",
        "if (int(inputted_no) % 2) == 0:\r\n",
        "  print(\"Even Number but you knew that already\\n\")\r\n",
        "else:\r\n",
        "  print(\"\\nOddest of numbers... where did you find this?\")"
      ],
      "execution_count": null,
      "outputs": [
        {
          "output_type": "stream",
          "text": [
            "Send in a number \n",
            "111\n",
            "Oddest of numbers... where did you find this?\n"
          ],
          "name": "stdout"
        }
      ]
    },
    {
      "cell_type": "code",
      "metadata": {
        "colab": {
          "base_uri": "https://localhost:8080/"
        },
        "id": "jqb0mxXKTLtJ",
        "outputId": "0d45b8e9-4c32-458a-fa31-ab9f0ea87490"
      },
      "source": [
        "#vowel check\r\n",
        "inputted_letter = input(\"Give me your best letter\\n\").lower\r\n",
        "if inputted_letter in [\"a\",\"e\",\"i\",\"o\",\"u\"]:\r\n",
        "  print(\"\\n Voweeeellll!\")\r\n",
        "elif inputted_letter == \"y\":\r\n",
        "  print(\"Sometimes y can be a vowel, nost times it is a consonant\")\r\n",
        "else:\r\n",
        "  print(\"Consonant!\")\r\n"
      ],
      "execution_count": null,
      "outputs": [
        {
          "output_type": "stream",
          "text": [
            "Give me your best letter\n",
            "1\n",
            "Consonant!\n"
          ],
          "name": "stdout"
        }
      ]
    },
    {
      "cell_type": "code",
      "metadata": {
        "colab": {
          "base_uri": "https://localhost:8080/"
        },
        "id": "UmJC1gxD5JkC",
        "outputId": "a3a8a0de-7cc7-4ca3-a1dd-7e3a68a647ea"
      },
      "source": [
        "# What kind of triangle?\r\n",
        "sides = list(map(int,input(\"\\nEnter the lengths of your triangle (Space between them): \").strip().split()))\r\n",
        "for side in sides:\r\n",
        "  if sides.count(side) == 3:\r\n",
        "    print('Equilateral triangle')\r\n",
        "    break\r\n",
        "  elif sides.count(side) == 2:\r\n",
        "    print('Isosceles triangle')\r\n",
        "    break\r\n",
        "  else:\r\n",
        "    print('Scalene triangle')\r\n",
        "    break"
      ],
      "execution_count": null,
      "outputs": [
        {
          "output_type": "stream",
          "text": [
            "\n",
            "Enter the lengths of your triangle (Space between them): 1 1 4\n",
            "Isosceles triangle\n"
          ],
          "name": "stdout"
        }
      ]
    },
    {
      "cell_type": "code",
      "metadata": {
        "colab": {
          "base_uri": "https://localhost:8080/"
        },
        "id": "sD2I3BsY5R8n",
        "outputId": "42f32866-288e-4f04-e6be-f7deb259fdc7"
      },
      "source": [
        "# Musical notes and their frequencies\r\n",
        "vault = {'A': 440.00, 'B':493.88,'C': 261.63,'D':293.66,'E':329.63,'F':349.23,'G':392.00}\r\n",
        "octave = input('What octave are you looking for \\n')\r\n",
        "first = octave[0].upper()\r\n",
        "second = int(octave[1])\r\n",
        "frequency = round(vault[first] / (2**(4-second)), 2)\r\n",
        "print('\\n',octave,' has a frequency of ',frequency)"
      ],
      "execution_count": null,
      "outputs": [
        {
          "output_type": "stream",
          "text": [
            "What octave are you looking for \n",
            "C8\n",
            "\n",
            " C8  has a frequency of  4186.08\n"
          ],
          "name": "stdout"
        }
      ]
    },
    {
      "cell_type": "code",
      "metadata": {
        "colab": {
          "base_uri": "https://localhost:8080/"
        },
        "id": "m1IHgQJH5m6n",
        "outputId": "3fad07b2-414e-46c4-bd30-60ce7566ad29"
      },
      "source": [
        "# Wind Chill index\r\n",
        "wind_speed = float(input(\"Enter wind speed(in Kilometer per hour) \\n\"))\r\n",
        "air_temperature = float(input(\"What's the air temperature?(in Celsius) \\n\"))\r\n",
        "wci = 13.12 + (0.6215 * air_temperature) - 11.37*(wind_speed ** 0.16) + (0.3965*air_temperature*wind_speed**0.16)\r\n",
        "if (wind_speed <= 10) & (air_temperature > 4.8):\r\n",
        "  print(\"Your wind chill index is {}\".format(round(wci),2))\r\n",
        "else:\r\n",
        "  print(\"I'm sorry, you are just not cool enough\")\r\n"
      ],
      "execution_count": null,
      "outputs": [
        {
          "output_type": "stream",
          "text": [
            "Enter wind speed(in Kilometer per hour) \n",
            "3\n",
            "What's the air temperature?(in Celsius) \n",
            "10\n",
            "Your wind chill index is 11\n"
          ],
          "name": "stdout"
        }
      ]
    },
    {
      "cell_type": "code",
      "metadata": {
        "colab": {
          "base_uri": "https://localhost:8080/"
        },
        "id": "dlufHX34YDxM",
        "outputId": "dd5e0791-5dad-452b-939f-61d9f6dc3848"
      },
      "source": [
        "# Min, Max, median on inputted numbers\r\n",
        "\r\n",
        "numbers = list(map(int, input(\"Enter three numbers (comma seperated): \\n\").strip().split(\",\")))\r\n",
        "maximum = max(numbers)\r\n",
        "minimum = min(numbers)\r\n",
        "median = sum(numbers) - maximum - minimum\r\n",
        "print(\"\\n Maximum: {}, Minimum: {}, Median: {}\".format(maximum, minimum, median)) \r\n"
      ],
      "execution_count": null,
      "outputs": [
        {
          "output_type": "stream",
          "text": [
            "Enter three numbers (comma seperated): \n",
            "1,4,5\n",
            "\n",
            " Maximum: 5, Minimum: 1, Median: 4\n"
          ],
          "name": "stdout"
        }
      ]
    },
    {
      "cell_type": "code",
      "metadata": {
        "colab": {
          "base_uri": "https://localhost:8080/"
        },
        "id": "sKYTZxS8aF7f",
        "outputId": "a60ed189-0866-48d8-ca41-ac4cb44d13a9"
      },
      "source": [
        "# License plate style \r\n",
        "import re\r\n",
        "\r\n",
        "licen = input(\"Your plate number please: \\n\")\r\n",
        "if re.match(r\"[A-Z]{3}\\d{3}\", licen) is not None:\r\n",
        "  print(\"Old style license plate. Update please\")\r\n",
        "elif re.match(r\"\\d{4}[A-Z]{3}\", licen):\r\n",
        "  print(\"Rocking the latest in license plate\")\r\n",
        "else:\r\n",
        "  print(\"Upper Case numbers please!!!. Check your plate\")"
      ],
      "execution_count": null,
      "outputs": [
        {
          "output_type": "stream",
          "text": [
            "Your plate number please: \n",
            "ABC123\n",
            "Old style license plate. Update please\n"
          ],
          "name": "stdout"
        }
      ]
    },
    {
      "cell_type": "code",
      "metadata": {
        "id": "QYrUJWoFfPW0",
        "colab": {
          "base_uri": "https://localhost:8080/"
        },
        "outputId": "3e7607cb-5691-409a-bd1a-373551e090db"
      },
      "source": [
        "##\r\n",
        "#Display the bets that pay out in a roulette simulation\r\n",
        "#\r\n",
        "from random import randrange\r\n",
        "#simulate spinning the wheel, using 37 to represent 00\r\n",
        "value = randrange(0,38)\r\n",
        "if value == 37:\r\n",
        "    print(\"The spin resulted in 00...\")\r\n",
        "else:\r\n",
        "    print(\"The spin resulted in %d...\"%value)\r\n",
        "#Display the payout for a single number\r\n",
        "if value == 37:\r\n",
        "    print(\"Pay 00\")\r\n",
        "else:\r\n",
        "    print(\"Pay\", value)\r\n",
        "#Display the color payout\r\n",
        "#The first line in the condition checks for 1,3,5,7,9\r\n",
        "#The second line in the condition checks for 12,14,16,18\r\n",
        "#The third line in the condition checks for 19,21,23,25,27\r\n",
        "#The fourth line in the condition checks for 30,32,34,36\r\n",
        "if value % 2 == 1 and value >= 1 and value <= 9 or \\\r\n",
        "    value % 2 == 0 and value >= 12 and value <= 18 or \\\r\n",
        "    value % 2 == 1 and value >= 19 and value <= 27 or \\\r\n",
        "    value % 2 == 0 and value >= 30 and value <= 36:\r\n",
        "    print(\"Pay Red\")\r\n",
        "elif value == 0 or value == 37:\r\n",
        "    pass\r\n",
        "else:\r\n",
        "    print(\"Pay Black\")\r\n",
        "#Display the odd vs. even payout\r\n",
        "if value >= 1 and value <= 36:\r\n",
        "    if value % 2 == 1:\r\n",
        "        print(\"Pay Odd\")\r\n",
        "    else:\r\n",
        "        print(\"Pay Even\")\r\n",
        "#Display the lower number vs. upper number payout\r\n",
        "if value >= 1 and value <= 18:\r\n",
        "    print(\"Pay 1 to 18\")\r\n",
        "elif value >= 19 and value <= 36:\r\n",
        "    print(\"Pay 19 to 36\")"
      ],
      "execution_count": 1,
      "outputs": [
        {
          "output_type": "stream",
          "text": [
            "The spin resulted in 35...\n",
            "Pay 35\n",
            "Pay Black\n",
            "Pay Odd\n",
            "Pay 19 to 36\n"
          ],
          "name": "stdout"
        }
      ]
    },
    {
      "cell_type": "code",
      "metadata": {
        "colab": {
          "base_uri": "https://localhost:8080/"
        },
        "id": "e_7mesV_JrXr",
        "outputId": "aae75ce4-13a3-4832-8ade-7abb19b077ec"
      },
      "source": [
        "## Convert shopping list to the nearest nickel\r\n",
        "\r\n",
        "no_per_nickel = 5\r\n",
        "nickel = 0.05\r\n",
        "\r\n",
        "total = 0.00\r\n",
        "#Read the price of the first item as a string.\r\n",
        "item = input('Enter the price of the product: (blank space to quit) : ')\r\n",
        "#Continue reading items until a blank line is entered\r\n",
        "while item != \"\":\r\n",
        "    #Add the cost of the item to the total (after converting it to a float)\r\n",
        "    total = total + float(item)\r\n",
        "    #Read the cost of the next item\r\n",
        "    item = input(\"Enter the price of the item (blank to quit): \")\r\n",
        "#Display the exact total payable\r\n",
        "print(\"The exact amount payable is %.02f\" % total)\r\n",
        "#Compute the number of pennies that would be left if the total was paid only using nickels\r\n",
        "check = total * 100 % no_per_nickel\r\n",
        "if check < no_per_nickel / 2:\r\n",
        "    cash_total = total - check / 100\r\n",
        "else:\r\n",
        "    cash_total = total + nickel - check / 100\r\n",
        "#Display the cash amount payable\r\n",
        "print(\"The cash amount payable is %.02f\" % cash_total)"
      ],
      "execution_count": 4,
      "outputs": [
        {
          "output_type": "stream",
          "text": [
            "Enter the price of the product: (blank space to quit) : 3.5\n",
            "Enter the price of the item (blank to quit): 2.1\n",
            "Enter the price of the item (blank to quit): 4.0\n",
            "Enter the price of the item (blank to quit): 3.401323\n",
            "Enter the price of the item (blank to quit): \n",
            "The exact amount payable is 13.00\n",
            "The cash amount payable is 13.00\n"
          ],
          "name": "stdout"
        }
      ]
    },
    {
      "cell_type": "code",
      "metadata": {
        "colab": {
          "base_uri": "https://localhost:8080/"
        },
        "id": "JLbb5HEhMCOL",
        "outputId": "787ef9ad-eb78-4660-fc19-6eea56c92d39"
      },
      "source": [
        "#perimeter of a polygon for user input\r\n",
        "\r\n",
        "import math as m\r\n",
        "x = input('Enter the x part of the coordinate:')\r\n",
        "x1 = int(float(x))\r\n",
        "x0 = x1\r\n",
        "y = input('Enter the y part of the coordinate:')\r\n",
        "y1 = int(float(y))\r\n",
        "y0 = y1\r\n",
        "\r\n",
        "length = len(x)\r\n",
        "\r\n",
        "perimeter = 0\r\n",
        "\r\n",
        "x_1 = input('Enter the x part of the coordinate: (blank to quit) :')\r\n",
        "length1 = len(x_1)\r\n",
        "if length1 != 0: \r\n",
        "    x2 = int(float(x_1))\r\n",
        "\r\n",
        "#start of the loop\r\n",
        "while length1 != 0:\r\n",
        "    y_1 = input('Enter the y part of the coordinate:')\r\n",
        "    y2 = int(float(y_1))\r\n",
        "    #distance calculation\r\n",
        "    perimeter = perimeter + m.sqrt(m.pow(x1-x2,2) + m.pow(y1-y2,2))\r\n",
        "    x1 = x2\r\n",
        "    y1 = y2\r\n",
        "    x_1 = input('Enter the x part of the coordinate: (blank to quit) :')\r\n",
        "    length1 = len(x_1)\r\n",
        "    if length1 != 0:\r\n",
        "        x2 = int(float(x_1))    \r\n",
        "       \r\n",
        "\r\n",
        "#distance from last point to first point\r\n",
        "perimeter = perimeter + m.sqrt(m.pow(x0-x1,2) + m.pow(y0-y1,2))\r\n",
        "\r\n",
        "print('The perimeter of that polygon is ',perimeter )"
      ],
      "execution_count": 7,
      "outputs": [
        {
          "output_type": "stream",
          "text": [
            "Enter the x part of the coordinate:1\n",
            "Enter the y part of the coordinate:0\n",
            "Enter the x part of the coordinate: (blank to quit) :1\n",
            "Enter the y part of the coordinate:0\n",
            "Enter the x part of the coordinate: (blank to quit) :1\n",
            "Enter the y part of the coordinate:0\n",
            "Enter the x part of the coordinate: (blank to quit) :\n",
            "The perimeter of that polygon is  0.0\n"
          ],
          "name": "stdout"
        }
      ]
    },
    {
      "cell_type": "code",
      "metadata": {
        "colab": {
          "base_uri": "https://localhost:8080/"
        },
        "id": "qa1vH8GaTYYN",
        "outputId": "af15bdf6-a59c-4a83-c81b-5cc259eb9865"
      },
      "source": [
        "#funtion that checks for integer\r\n",
        "\r\n",
        "def isInteger(x):\r\n",
        "  x = x.strip()\r\n",
        "  if (len(x) >= 1) & x.isdigit():\r\n",
        "    print(f\"{x} is an integer\")\r\n",
        "  elif (x[0] in ['+','-']) & x[1:].isdigit():\r\n",
        "    print(f\"{x} is an integer\")\r\n",
        "  else:\r\n",
        "    print(\"I don't know what that is\")\r\n",
        "  return\r\n",
        "\r\n",
        "if __name__ == '__main__':\r\n",
        "  x = input(\"Please enter the text you want checked \\n\")\r\n",
        "  isInteger(x)\r\n",
        "\r\n"
      ],
      "execution_count": 14,
      "outputs": [
        {
          "output_type": "stream",
          "text": [
            "Please enter the text you want checked \n",
            "-567\n",
            "-567 is an integer\n"
          ],
          "name": "stdout"
        }
      ]
    },
    {
      "cell_type": "code",
      "metadata": {
        "colab": {
          "base_uri": "https://localhost:8080/"
        },
        "id": "zw3NUcPUhtqC",
        "outputId": "a5d78d63-d4a0-4bbd-9634-c62996cc082c"
      },
      "source": [
        "# Prime function\r\n",
        "\r\n",
        "def isPrime(x):\r\n",
        "  x = int(x)\r\n",
        "  if x > 1:\r\n",
        "    for i in range(2, x):\r\n",
        "      if (x % i) == 0:\r\n",
        "        print(f\"{x} is not a prime number\")\r\n",
        "        break\r\n",
        "      else:\r\n",
        "        print(f\"{x} is a prime number\")\r\n",
        "  else:\r\n",
        "    print(f\" {x} is not a prime number\")\r\n",
        "\r\n",
        "if __name__ == '__main__':\r\n",
        "  x = input(\"Please input a number \\n\")\r\n",
        "  isPrime(x)"
      ],
      "execution_count": 25,
      "outputs": [
        {
          "output_type": "stream",
          "text": [
            "Please input a number \n",
            "4\n",
            "4 is not a prime number\n"
          ],
          "name": "stdout"
        }
      ]
    },
    {
      "cell_type": "code",
      "metadata": {
        "id": "Fs_g1lc5knw7"
      },
      "source": [
        ""
      ],
      "execution_count": null,
      "outputs": []
    }
  ]
}