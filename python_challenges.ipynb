{
  "nbformat": 4,
  "nbformat_minor": 0,
  "metadata": {
    "colab": {
      "name": "python_challenges.ipynb",
      "provenance": [],
      "authorship_tag": "ABX9TyM8YuG5Xo72aA7jP0pA5EWY",
      "include_colab_link": true
    },
    "kernelspec": {
      "name": "python3",
      "display_name": "Python 3"
    }
  },
  "cells": [
    {
      "cell_type": "markdown",
      "metadata": {
        "id": "view-in-github",
        "colab_type": "text"
      },
      "source": [
        "<a href=\"https://colab.research.google.com/github/Soot3/Bertelsmann-Scholarship/blob/main/python_challenges.ipynb\" target=\"_parent\"><img src=\"https://colab.research.google.com/assets/colab-badge.svg\" alt=\"Open In Colab\"/></a>"
      ]
    },
    {
      "cell_type": "code",
      "metadata": {
        "colab": {
          "base_uri": "https://localhost:8080/"
        },
        "id": "UmJC1gxD5JkC",
        "outputId": "a3a8a0de-7cc7-4ca3-a1dd-7e3a68a647ea"
      },
      "source": [
        "# What kind of triangle?\r\n",
        "sides = list(map(int,input(\"\\nEnter the lengths of your triangle (Space between them): \").strip().split()))\r\n",
        "for side in sides:\r\n",
        "  if sides.count(side) == 3:\r\n",
        "    print('Equilateral triangle')\r\n",
        "    break\r\n",
        "  elif sides.count(side) == 2:\r\n",
        "    print('Isosceles triangle')\r\n",
        "    break\r\n",
        "  else:\r\n",
        "    print('Scalene triangle')\r\n",
        "    break"
      ],
      "execution_count": 1,
      "outputs": [
        {
          "output_type": "stream",
          "text": [
            "\n",
            "Enter the lengths of your triangle (Space between them): 1 1 4\n",
            "Isosceles triangle\n"
          ],
          "name": "stdout"
        }
      ]
    },
    {
      "cell_type": "code",
      "metadata": {
        "colab": {
          "base_uri": "https://localhost:8080/"
        },
        "id": "sD2I3BsY5R8n",
        "outputId": "42f32866-288e-4f04-e6be-f7deb259fdc7"
      },
      "source": [
        "# Musical notes and their frequencies\r\n",
        "vault = {'A': 440.00, 'B':493.88,'C': 261.63,'D':293.66,'E':329.63,'F':349.23,'G':392.00}\r\n",
        "octave = input('What octave are you looking for \\n')\r\n",
        "first = octave[0].upper()\r\n",
        "second = int(octave[1])\r\n",
        "frequency = round(vault[first] / (2**(4-second)), 2)\r\n",
        "print('\\n',octave,' has a frequency of ',frequency)"
      ],
      "execution_count": 2,
      "outputs": [
        {
          "output_type": "stream",
          "text": [
            "What octave are you looking for \n",
            "C8\n",
            "\n",
            " C8  has a frequency of  4186.08\n"
          ],
          "name": "stdout"
        }
      ]
    },
    {
      "cell_type": "code",
      "metadata": {
        "id": "m1IHgQJH5m6n"
      },
      "source": [
        ""
      ],
      "execution_count": null,
      "outputs": []
    }
  ]
}