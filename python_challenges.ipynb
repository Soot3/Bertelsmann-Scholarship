{
  "nbformat": 4,
  "nbformat_minor": 0,
  "metadata": {
    "colab": {
      "name": "python_challenges.ipynb",
      "provenance": [],
      "authorship_tag": "ABX9TyN05qWvbEDiCAPwmDeZGqbz",
      "include_colab_link": true
    },
    "kernelspec": {
      "name": "python3",
      "display_name": "Python 3"
    }
  },
  "cells": [
    {
      "cell_type": "markdown",
      "metadata": {
        "id": "view-in-github",
        "colab_type": "text"
      },
      "source": [
        "<a href=\"https://colab.research.google.com/github/Soot3/Bertelsmann-Scholarship/blob/main/python_challenges.ipynb\" target=\"_parent\"><img src=\"https://colab.research.google.com/assets/colab-badge.svg\" alt=\"Open In Colab\"/></a>"
      ]
    },
    {
      "cell_type": "code",
      "metadata": {
        "colab": {
          "base_uri": "https://localhost:8080/"
        },
        "id": "mGLdX-FUSYOB",
        "outputId": "9fdf238e-bf53-4e6c-8591-6c06cbbad604"
      },
      "source": [
        "#even odd inputted number\r\n",
        "inputted_no = input(\"Send in a number \\n\")\r\n",
        "if (int(inputted_no) % 2) == 0:\r\n",
        "  print(\"Even Number but you knew that already\\n\")\r\n",
        "else:\r\n",
        "  print(\"\\nOddest of numbers... where did you find this?\")"
      ],
      "execution_count": null,
      "outputs": [
        {
          "output_type": "stream",
          "text": [
            "Send in a number \n",
            "111\n",
            "Oddest of numbers... where did you find this?\n"
          ],
          "name": "stdout"
        }
      ]
    },
    {
      "cell_type": "code",
      "metadata": {
        "colab": {
          "base_uri": "https://localhost:8080/"
        },
        "id": "jqb0mxXKTLtJ",
        "outputId": "0d45b8e9-4c32-458a-fa31-ab9f0ea87490"
      },
      "source": [
        "#vowel check\r\n",
        "inputted_letter = input(\"Give me your best letter\\n\").lower\r\n",
        "if inputted_letter in [\"a\",\"e\",\"i\",\"o\",\"u\"]:\r\n",
        "  print(\"\\n Voweeeellll!\")\r\n",
        "elif inputted_letter == \"y\":\r\n",
        "  print(\"Sometimes y can be a vowel, nost times it is a consonant\")\r\n",
        "else:\r\n",
        "  print(\"Consonant!\")\r\n"
      ],
      "execution_count": null,
      "outputs": [
        {
          "output_type": "stream",
          "text": [
            "Give me your best letter\n",
            "1\n",
            "Consonant!\n"
          ],
          "name": "stdout"
        }
      ]
    },
    {
      "cell_type": "code",
      "metadata": {
        "colab": {
          "base_uri": "https://localhost:8080/"
        },
        "id": "UmJC1gxD5JkC",
        "outputId": "a3a8a0de-7cc7-4ca3-a1dd-7e3a68a647ea"
      },
      "source": [
        "# What kind of triangle?\r\n",
        "sides = list(map(int,input(\"\\nEnter the lengths of your triangle (Space between them): \").strip().split()))\r\n",
        "for side in sides:\r\n",
        "  if sides.count(side) == 3:\r\n",
        "    print('Equilateral triangle')\r\n",
        "    break\r\n",
        "  elif sides.count(side) == 2:\r\n",
        "    print('Isosceles triangle')\r\n",
        "    break\r\n",
        "  else:\r\n",
        "    print('Scalene triangle')\r\n",
        "    break"
      ],
      "execution_count": null,
      "outputs": [
        {
          "output_type": "stream",
          "text": [
            "\n",
            "Enter the lengths of your triangle (Space between them): 1 1 4\n",
            "Isosceles triangle\n"
          ],
          "name": "stdout"
        }
      ]
    },
    {
      "cell_type": "code",
      "metadata": {
        "colab": {
          "base_uri": "https://localhost:8080/"
        },
        "id": "sD2I3BsY5R8n",
        "outputId": "42f32866-288e-4f04-e6be-f7deb259fdc7"
      },
      "source": [
        "# Musical notes and their frequencies\r\n",
        "vault = {'A': 440.00, 'B':493.88,'C': 261.63,'D':293.66,'E':329.63,'F':349.23,'G':392.00}\r\n",
        "octave = input('What octave are you looking for \\n')\r\n",
        "first = octave[0].upper()\r\n",
        "second = int(octave[1])\r\n",
        "frequency = round(vault[first] / (2**(4-second)), 2)\r\n",
        "print('\\n',octave,' has a frequency of ',frequency)"
      ],
      "execution_count": null,
      "outputs": [
        {
          "output_type": "stream",
          "text": [
            "What octave are you looking for \n",
            "C8\n",
            "\n",
            " C8  has a frequency of  4186.08\n"
          ],
          "name": "stdout"
        }
      ]
    },
    {
      "cell_type": "code",
      "metadata": {
        "colab": {
          "base_uri": "https://localhost:8080/"
        },
        "id": "m1IHgQJH5m6n",
        "outputId": "3fad07b2-414e-46c4-bd30-60ce7566ad29"
      },
      "source": [
        "# Wind Chill index\r\n",
        "wind_speed = float(input(\"Enter wind speed(in Kilometer per hour) \\n\"))\r\n",
        "air_temperature = float(input(\"What's the air temperature?(in Celsius) \\n\"))\r\n",
        "wci = 13.12 + (0.6215 * air_temperature) - 11.37*(wind_speed ** 0.16) + (0.3965*air_temperature*wind_speed**0.16)\r\n",
        "if (wind_speed <= 10) & (air_temperature > 4.8):\r\n",
        "  print(\"Your wind chill index is {}\".format(round(wci),2))\r\n",
        "else:\r\n",
        "  print(\"I'm sorry, you are just not cool enough\")\r\n"
      ],
      "execution_count": null,
      "outputs": [
        {
          "output_type": "stream",
          "text": [
            "Enter wind speed(in Kilometer per hour) \n",
            "3\n",
            "What's the air temperature?(in Celsius) \n",
            "10\n",
            "Your wind chill index is 11\n"
          ],
          "name": "stdout"
        }
      ]
    },
    {
      "cell_type": "code",
      "metadata": {
        "colab": {
          "base_uri": "https://localhost:8080/"
        },
        "id": "dlufHX34YDxM",
        "outputId": "dd5e0791-5dad-452b-939f-61d9f6dc3848"
      },
      "source": [
        "# Min, Max, median on inputted numbers\r\n",
        "\r\n",
        "numbers = list(map(int, input(\"Enter three numbers (comma seperated): \\n\").strip().split(\",\")))\r\n",
        "maximum = max(numbers)\r\n",
        "minimum = min(numbers)\r\n",
        "median = sum(numbers) - maximum - minimum\r\n",
        "print(\"\\n Maximum: {}, Minimum: {}, Median: {}\".format(maximum, minimum, median)) \r\n"
      ],
      "execution_count": null,
      "outputs": [
        {
          "output_type": "stream",
          "text": [
            "Enter three numbers (comma seperated): \n",
            "1,4,5\n",
            "\n",
            " Maximum: 5, Minimum: 1, Median: 4\n"
          ],
          "name": "stdout"
        }
      ]
    },
    {
      "cell_type": "code",
      "metadata": {
        "colab": {
          "base_uri": "https://localhost:8080/"
        },
        "id": "sKYTZxS8aF7f",
        "outputId": "a60ed189-0866-48d8-ca41-ac4cb44d13a9"
      },
      "source": [
        "# License plate style \r\n",
        "import re\r\n",
        "\r\n",
        "licen = input(\"Your plate number please: \\n\")\r\n",
        "if re.match(r\"[A-Z]{3}\\d{3}\", licen) is not None:\r\n",
        "  print(\"Old style license plate. Update please\")\r\n",
        "elif re.match(r\"\\d{4}[A-Z]{3}\", licen):\r\n",
        "  print(\"Rocking the latest in license plate\")\r\n",
        "else:\r\n",
        "  print(\"Upper Case numbers please!!!. Check your plate\")"
      ],
      "execution_count": null,
      "outputs": [
        {
          "output_type": "stream",
          "text": [
            "Your plate number please: \n",
            "ABC123\n",
            "Old style license plate. Update please\n"
          ],
          "name": "stdout"
        }
      ]
    },
    {
      "cell_type": "code",
      "metadata": {
        "id": "QYrUJWoFfPW0",
        "colab": {
          "base_uri": "https://localhost:8080/"
        },
        "outputId": "3e7607cb-5691-409a-bd1a-373551e090db"
      },
      "source": [
        "##\r\n",
        "#Display the bets that pay out in a roulette simulation\r\n",
        "#\r\n",
        "from random import randrange\r\n",
        "#simulate spinning the wheel, using 37 to represent 00\r\n",
        "value = randrange(0,38)\r\n",
        "if value == 37:\r\n",
        "    print(\"The spin resulted in 00...\")\r\n",
        "else:\r\n",
        "    print(\"The spin resulted in %d...\"%value)\r\n",
        "#Display the payout for a single number\r\n",
        "if value == 37:\r\n",
        "    print(\"Pay 00\")\r\n",
        "else:\r\n",
        "    print(\"Pay\", value)\r\n",
        "#Display the color payout\r\n",
        "#The first line in the condition checks for 1,3,5,7,9\r\n",
        "#The second line in the condition checks for 12,14,16,18\r\n",
        "#The third line in the condition checks for 19,21,23,25,27\r\n",
        "#The fourth line in the condition checks for 30,32,34,36\r\n",
        "if value % 2 == 1 and value >= 1 and value <= 9 or \\\r\n",
        "    value % 2 == 0 and value >= 12 and value <= 18 or \\\r\n",
        "    value % 2 == 1 and value >= 19 and value <= 27 or \\\r\n",
        "    value % 2 == 0 and value >= 30 and value <= 36:\r\n",
        "    print(\"Pay Red\")\r\n",
        "elif value == 0 or value == 37:\r\n",
        "    pass\r\n",
        "else:\r\n",
        "    print(\"Pay Black\")\r\n",
        "#Display the odd vs. even payout\r\n",
        "if value >= 1 and value <= 36:\r\n",
        "    if value % 2 == 1:\r\n",
        "        print(\"Pay Odd\")\r\n",
        "    else:\r\n",
        "        print(\"Pay Even\")\r\n",
        "#Display the lower number vs. upper number payout\r\n",
        "if value >= 1 and value <= 18:\r\n",
        "    print(\"Pay 1 to 18\")\r\n",
        "elif value >= 19 and value <= 36:\r\n",
        "    print(\"Pay 19 to 36\")"
      ],
      "execution_count": null,
      "outputs": [
        {
          "output_type": "stream",
          "text": [
            "The spin resulted in 35...\n",
            "Pay 35\n",
            "Pay Black\n",
            "Pay Odd\n",
            "Pay 19 to 36\n"
          ],
          "name": "stdout"
        }
      ]
    },
    {
      "cell_type": "code",
      "metadata": {
        "colab": {
          "base_uri": "https://localhost:8080/"
        },
        "id": "e_7mesV_JrXr",
        "outputId": "aae75ce4-13a3-4832-8ade-7abb19b077ec"
      },
      "source": [
        "## Convert shopping list to the nearest nickel\r\n",
        "\r\n",
        "no_per_nickel = 5\r\n",
        "nickel = 0.05\r\n",
        "\r\n",
        "total = 0.00\r\n",
        "#Read the price of the first item as a string.\r\n",
        "item = input('Enter the price of the product: (blank space to quit) : ')\r\n",
        "#Continue reading items until a blank line is entered\r\n",
        "while item != \"\":\r\n",
        "    #Add the cost of the item to the total (after converting it to a float)\r\n",
        "    total = total + float(item)\r\n",
        "    #Read the cost of the next item\r\n",
        "    item = input(\"Enter the price of the item (blank to quit): \")\r\n",
        "#Display the exact total payable\r\n",
        "print(\"The exact amount payable is %.02f\" % total)\r\n",
        "#Compute the number of pennies that would be left if the total was paid only using nickels\r\n",
        "check = total * 100 % no_per_nickel\r\n",
        "if check < no_per_nickel / 2:\r\n",
        "    cash_total = total - check / 100\r\n",
        "else:\r\n",
        "    cash_total = total + nickel - check / 100\r\n",
        "#Display the cash amount payable\r\n",
        "print(\"The cash amount payable is %.02f\" % cash_total)"
      ],
      "execution_count": null,
      "outputs": [
        {
          "output_type": "stream",
          "text": [
            "Enter the price of the product: (blank space to quit) : 3.5\n",
            "Enter the price of the item (blank to quit): 2.1\n",
            "Enter the price of the item (blank to quit): 4.0\n",
            "Enter the price of the item (blank to quit): 3.401323\n",
            "Enter the price of the item (blank to quit): \n",
            "The exact amount payable is 13.00\n",
            "The cash amount payable is 13.00\n"
          ],
          "name": "stdout"
        }
      ]
    },
    {
      "cell_type": "code",
      "metadata": {
        "colab": {
          "base_uri": "https://localhost:8080/"
        },
        "id": "JLbb5HEhMCOL",
        "outputId": "787ef9ad-eb78-4660-fc19-6eea56c92d39"
      },
      "source": [
        "#perimeter of a polygon for user input\r\n",
        "\r\n",
        "import math as m\r\n",
        "x = input('Enter the x part of the coordinate:')\r\n",
        "x1 = int(float(x))\r\n",
        "x0 = x1\r\n",
        "y = input('Enter the y part of the coordinate:')\r\n",
        "y1 = int(float(y))\r\n",
        "y0 = y1\r\n",
        "\r\n",
        "length = len(x)\r\n",
        "\r\n",
        "perimeter = 0\r\n",
        "\r\n",
        "x_1 = input('Enter the x part of the coordinate: (blank to quit) :')\r\n",
        "length1 = len(x_1)\r\n",
        "if length1 != 0: \r\n",
        "    x2 = int(float(x_1))\r\n",
        "\r\n",
        "#start of the loop\r\n",
        "while length1 != 0:\r\n",
        "    y_1 = input('Enter the y part of the coordinate:')\r\n",
        "    y2 = int(float(y_1))\r\n",
        "    #distance calculation\r\n",
        "    perimeter = perimeter + m.sqrt(m.pow(x1-x2,2) + m.pow(y1-y2,2))\r\n",
        "    x1 = x2\r\n",
        "    y1 = y2\r\n",
        "    x_1 = input('Enter the x part of the coordinate: (blank to quit) :')\r\n",
        "    length1 = len(x_1)\r\n",
        "    if length1 != 0:\r\n",
        "        x2 = int(float(x_1))    \r\n",
        "       \r\n",
        "\r\n",
        "#distance from last point to first point\r\n",
        "perimeter = perimeter + m.sqrt(m.pow(x0-x1,2) + m.pow(y0-y1,2))\r\n",
        "\r\n",
        "print('The perimeter of that polygon is ',perimeter )"
      ],
      "execution_count": null,
      "outputs": [
        {
          "output_type": "stream",
          "text": [
            "Enter the x part of the coordinate:1\n",
            "Enter the y part of the coordinate:0\n",
            "Enter the x part of the coordinate: (blank to quit) :1\n",
            "Enter the y part of the coordinate:0\n",
            "Enter the x part of the coordinate: (blank to quit) :1\n",
            "Enter the y part of the coordinate:0\n",
            "Enter the x part of the coordinate: (blank to quit) :\n",
            "The perimeter of that polygon is  0.0\n"
          ],
          "name": "stdout"
        }
      ]
    },
    {
      "cell_type": "code",
      "metadata": {
        "colab": {
          "base_uri": "https://localhost:8080/"
        },
        "id": "qa1vH8GaTYYN",
        "outputId": "af15bdf6-a59c-4a83-c81b-5cc259eb9865"
      },
      "source": [
        "#funtion that checks for integer\r\n",
        "\r\n",
        "def isInteger(x):\r\n",
        "  x = x.strip()\r\n",
        "  if (len(x) >= 1) & x.isdigit():\r\n",
        "    print(f\"{x} is an integer\")\r\n",
        "  elif (x[0] in ['+','-']) & x[1:].isdigit():\r\n",
        "    print(f\"{x} is an integer\")\r\n",
        "  else:\r\n",
        "    print(\"I don't know what that is\")\r\n",
        "  return\r\n",
        "\r\n",
        "if __name__ == '__main__':\r\n",
        "  x = input(\"Please enter the text you want checked \\n\")\r\n",
        "  isInteger(x)\r\n",
        "\r\n"
      ],
      "execution_count": null,
      "outputs": [
        {
          "output_type": "stream",
          "text": [
            "Please enter the text you want checked \n",
            "-567\n",
            "-567 is an integer\n"
          ],
          "name": "stdout"
        }
      ]
    },
    {
      "cell_type": "code",
      "metadata": {
        "colab": {
          "base_uri": "https://localhost:8080/"
        },
        "id": "zw3NUcPUhtqC",
        "outputId": "a5d78d63-d4a0-4bbd-9634-c62996cc082c"
      },
      "source": [
        "# Prime function\r\n",
        "\r\n",
        "def isPrime(x):\r\n",
        "  x = int(x)\r\n",
        "  if x > 1:\r\n",
        "    for i in range(2, x):\r\n",
        "      if (x % i) == 0:\r\n",
        "        print(f\"{x} is not a prime number\")\r\n",
        "        break\r\n",
        "      else:\r\n",
        "        print(f\"{x} is a prime number\")\r\n",
        "  else:\r\n",
        "    print(f\" {x} is not a prime number\")\r\n",
        "\r\n",
        "if __name__ == '__main__':\r\n",
        "  x = input(\"Please input a number \\n\")\r\n",
        "  isPrime(x)"
      ],
      "execution_count": null,
      "outputs": [
        {
          "output_type": "stream",
          "text": [
            "Please input a number \n",
            "4\n",
            "4 is not a prime number\n"
          ],
          "name": "stdout"
        }
      ]
    },
    {
      "cell_type": "code",
      "metadata": {
        "id": "Fs_g1lc5knw7",
        "colab": {
          "base_uri": "https://localhost:8080/",
          "height": 68
        },
        "outputId": "766202a5-68dc-4398-b534-50eaeaea4fa4"
      },
      "source": [
        "\"\"\"\r\n",
        "import sys  \r\n",
        "sys.setrecursionlimit(10000)\r\n",
        "\r\n",
        "def anyBase(inbase10, new_base):\r\n",
        "  digits = \"0123456789ABCDEF\"\r\n",
        "  if inBase10 <= new_base:\r\n",
        "    return digits[inbase10]\r\n",
        "  else:\r\n",
        "    return anyBase(inbase10 // new_base, new_base) + digits[inbase10 % new_base]\r\n",
        "\r\n",
        "if __name__ == \"__main__\":\r\n",
        "  n = input(\"Give me a number: \\n\")\r\n",
        "  base = int(input(\"What base is this number in: \\n\"))\r\n",
        "  new_base = int(input(\"Which base should it change to: \\n\"))\r\n",
        "  inBase10 = int(n, base)\r\n",
        "\r\n",
        "  if (((base < 2) | (base > 16)) | ((new_base < 2) | (new_base > 16))):\r\n",
        "    print(\"This program is suited for bases 2 to 16...\")\r\n",
        "  elif new_base == 10:\r\n",
        "    print(f\"Your number {n} has been converted to {inBase10}\")\r\n",
        "  else:\r\n",
        "    new_n = anyBase(inBase10,new_base)\r\n",
        "    print(f\"\\n Your number {n} in {base} has been converted to {new_n} in {new_base}\")  \r\n",
        "    \"\"\""
      ],
      "execution_count": null,
      "outputs": [
        {
          "output_type": "execute_result",
          "data": {
            "application/vnd.google.colaboratory.intrinsic+json": {
              "type": "string"
            },
            "text/plain": [
              "'\\nimport sys  \\nsys.setrecursionlimit(10000)\\n\\ndef anyBase(inbase10, new_base):\\n  digits = \"0123456789ABCDEF\"\\n  if inBase10 <= new_base:\\n    return digits[inbase10]\\n  else:\\n    return anyBase(inbase10 // new_base, new_base) + digits[inbase10 % new_base]\\n\\nif __name__ == \"__main__\":\\n  n = input(\"Give me a number: \\n\")\\n  base = int(input(\"What base is this number in: \\n\"))\\n  new_base = int(input(\"Which base should it change to: \\n\"))\\n  inBase10 = int(n, base)\\n\\n  if (((base < 2) | (base > 16)) | ((new_base < 2) | (new_base > 16))):\\n    print(\"This program is suited for bases 2 to 16...\")\\n  elif new_base == 10:\\n    print(f\"Your number {n} has been converted to {inBase10}\")\\n  else:\\n    new_n = anyBase(inBase10,new_base)\\n    print(f\"\\n Your number {n} in {base} has been converted to {new_n} in {new_base}\")  \\n    '"
            ]
          },
          "metadata": {
            "tags": []
          },
          "execution_count": 44
        }
      ]
    },
    {
      "cell_type": "code",
      "metadata": {
        "colab": {
          "base_uri": "https://localhost:8080/"
        },
        "id": "e3VNprqb3Wwn",
        "outputId": "7519d084-d78b-4177-f024-e784d36b3832"
      },
      "source": [
        "def reducer(i,j):\r\n",
        "  top = int(i)\r\n",
        "  buttom = int(j)\r\n",
        "  while j != 0:\r\n",
        "    x = j\r\n",
        "    j = i%j\r\n",
        "    i = x\r\n",
        "  top /= i\r\n",
        "  buttom /= i\r\n",
        "  return f\"{int(top)}/{int(buttom)}\"\r\n",
        "\r\n",
        "reducer(6,63)\r\n",
        "\r\n",
        "if __name__ == \"__main__\":\r\n",
        "  try:\r\n",
        "    x = int(input(\"numerator: \\n\"))\r\n",
        "    y = int(input(\"denominator: \\n\"))\r\n",
        "    print(reducer(x,y))\r\n",
        "  except:\r\n",
        "    print(\"Please enter valid integers\")"
      ],
      "execution_count": null,
      "outputs": [
        {
          "output_type": "stream",
          "text": [
            "numerator: \n",
            "252\n",
            "denominator: \n",
            "369\n",
            "28/41\n"
          ],
          "name": "stdout"
        }
      ]
    },
    {
      "cell_type": "code",
      "metadata": {
        "colab": {
          "base_uri": "https://localhost:8080/"
        },
        "id": "vdmLhSCa-qG5",
        "outputId": "53988435-660f-4765-c7a7-1d46a15e8465"
      },
      "source": [
        "x = []\r\n",
        "y = 1\r\n",
        "while y != 0:\r\n",
        "  y = int(input(\"Give me a number (send in zeros to stop): \"))\r\n",
        "  x.append(y)\r\n",
        "\r\n",
        "print(f'Here is a sorted list of your input: {sorted(x)[1:]}')"
      ],
      "execution_count": null,
      "outputs": [
        {
          "output_type": "stream",
          "text": [
            "Give me a number (send in zeros to stop): 1\n",
            "Give me a number (send in zeros to stop): 3\n",
            "Give me a number (send in zeros to stop): 6\n",
            "Give me a number (send in zeros to stop): 8\n",
            "Give me a number (send in zeros to stop): 6\n",
            "Give me a number (send in zeros to stop): 3\n",
            "Give me a number (send in zeros to stop): 9\n",
            "Give me a number (send in zeros to stop): 10\n",
            "Give me a number (send in zeros to stop): 0\n",
            "Here is a sorted list of your input: [1, 3, 3, 6, 6, 8, 9, 10]\n"
          ],
          "name": "stdout"
        }
      ]
    },
    {
      "cell_type": "code",
      "metadata": {
        "id": "b4dcUBKt_TQw",
        "colab": {
          "base_uri": "https://localhost:8080/"
        },
        "outputId": "5d7c7768-1435-4e38-ac77-e7c1435ec318"
      },
      "source": [
        "# formatting list inputs\r\n",
        "def shoppinglist(x):\r\n",
        "  string = ''\r\n",
        "  for i in x[:-1]:\r\n",
        "    string += i + ', '\r\n",
        "  string += 'and ' + x[-1]\r\n",
        "  return string\r\n",
        "\r\n",
        "if __name__ == '__main__':\r\n",
        "  x = input('Feed me your list with spaces between items: \\n').split(' ')\r\n",
        "  print(shoppinglist(x))  "
      ],
      "execution_count": 12,
      "outputs": [
        {
          "output_type": "stream",
          "text": [
            "Feed me your list with spaces between items: \n",
            "I am a survivor I am going to make it I am a survivor I will keep on surviving yeah\n",
            "I, am, a, survivor, I, am, going, to, make, it, I, am, a, survivor, I, will, keep, on, surviving, and yeah\n"
          ],
          "name": "stdout"
        }
      ]
    },
    {
      "cell_type": "code",
      "metadata": {
        "colab": {
          "base_uri": "https://localhost:8080/"
        },
        "id": "uAjJpqO0Hb_e",
        "outputId": "14fd6584-c6c0-4fff-8109-0f33ffa5f709"
      },
      "source": [
        "def shoppinglist(x):\r\n",
        "  string = ''\r\n",
        "  for i in x[:-2]:\r\n",
        "    string += i + ', '\r\n",
        "  string += x[-2] + ' and ' + x[-1]\r\n",
        "  return string\r\n",
        "\r\n",
        "if __name__ == '__main__':\r\n",
        "  x = input('Feed me your list with spaces between items: \\n').split(' ')\r\n",
        "  print(shoppinglist(x))  "
      ],
      "execution_count": 13,
      "outputs": [
        {
          "output_type": "stream",
          "text": [
            "Feed me your list with spaces between items: \n",
            "apples banana oranges lemons world peace end to hunger whatever\n",
            "apples, banana, oranges, lemons, world, peace, end, to, hunger and whatever\n"
          ],
          "name": "stdout"
        }
      ]
    },
    {
      "cell_type": "code",
      "metadata": {
        "colab": {
          "base_uri": "https://localhost:8080/"
        },
        "id": "R3tvSTa4HrYw",
        "outputId": "f4b6d469-2337-40d5-b21a-91db7c977a28"
      },
      "source": [
        "import random\r\n",
        "\r\n",
        "def lottery_picker():\r\n",
        "  x = random.sample(range(1,50),6)\r\n",
        "  x = sorted(x)\r\n",
        "  print(f'The winning numbers are: \\n')\r\n",
        "  print(*x, sep=', ')\r\n",
        "\r\n",
        "lottery_picker()"
      ],
      "execution_count": 10,
      "outputs": [
        {
          "output_type": "stream",
          "text": [
            "The winning numbers are: \n",
            "\n",
            "24, 29, 33, 35, 47, 48\n"
          ],
          "name": "stdout"
        }
      ]
    },
    {
      "cell_type": "code",
      "metadata": {
        "colab": {
          "base_uri": "https://localhost:8080/"
        },
        "id": "2Clgax_NA_iQ",
        "outputId": "499cd20d-ad09-47b0-b293-96cb5269f069"
      },
      "source": [
        "import random\r\n",
        "# creating a card deck\r\n",
        "def createDeck():\r\n",
        "  deck = []\r\n",
        "  # combining card value with card type\r\n",
        "  for i in ['s','h','d','c']:\r\n",
        "    for j in ['2','3','4','5','6','7','8','9','T','J','Q','K','A']:\r\n",
        "      x = i+j\r\n",
        "      deck.append(x)\r\n",
        "  # print list without brackets\r\n",
        "  print(*deck, sep = ', ')\r\n",
        "  shuffle(deck)\r\n",
        "\r\n",
        "def shuffle(deck):\r\n",
        "  # looping through card deck and randomly assigning positions\r\n",
        "  for item in range(52):\r\n",
        "    num = random.randint(0,51)\r\n",
        "    hold = deck[item]\r\n",
        "    deck[item] = deck[num]\r\n",
        "    deck[num] = hold\r\n",
        "  print(*deck, sep=',')\r\n",
        "\r\n",
        "# main function\r\n",
        "if __name__ == '__main__':\r\n",
        "  createDeck()\r\n"
      ],
      "execution_count": 19,
      "outputs": [
        {
          "output_type": "stream",
          "text": [
            "s2, s3, s4, s5, s6, s7, s8, s9, sT, sJ, sQ, sK, sA, h2, h3, h4, h5, h6, h7, h8, h9, hT, hJ, hQ, hK, hA, d2, d3, d4, d5, d6, d7, d8, d9, dT, dJ, dQ, dK, dA, c2, c3, c4, c5, c6, c7, c8, c9, cT, cJ, cQ, cK, cA\n",
            "c8,c2,h4,cA,h5,h9,hA,dJ,s9,c9,h7,d4,h3,d9,d6,sQ,dT,h8,d3,cT,hJ,c7,s4,d5,s6,sA,c6,dK,c5,sT,s5,s2,s8,c3,h6,sJ,cK,cJ,s7,hT,hK,hQ,h2,d7,d2,s3,d8,dQ,sK,dA,cQ,c4\n"
          ],
          "name": "stdout"
        }
      ]
    },
    {
      "cell_type": "code",
      "metadata": {
        "colab": {
          "base_uri": "https://localhost:8080/"
        },
        "id": "MFZsAXqk3Ubw",
        "outputId": "79c2cc55-5451-4b21-efa4-27d78042bda2"
      },
      "source": [
        "# tokenization of string math expressions\r\n",
        "def tolkien(math):\r\n",
        "  # setting a new list to receive the tokens\r\n",
        "  y = []\r\n",
        "  z = 1000 # exception variable used later on\r\n",
        "  # loop through the list of strings\r\n",
        "  for i in range(len(math)):\r\n",
        "    if i == z: # skip the loop if it's equal to our exception\r\n",
        "      pass\r\n",
        "    else:\r\n",
        "      if ((len(math)-i) != 1): # exception for the end of the list\r\n",
        "        if (math[i] in ['+','-']) & (math[i+1].isnumeric()): # check if an operator is close right next to a number\r\n",
        "          y.append(f'{math[i]}{math[i+1]}')# if it is join them for our final list\r\n",
        "          z = i + 1 # change the exception so the number isn't treated again\r\n",
        "        elif math[i] == ' ': # skipping spaces\r\n",
        "          pass\r\n",
        "        else:\r\n",
        "          y.append(math[i])\r\n",
        "      else:\r\n",
        "          y.append(math[i])\r\n",
        "  return y    \r\n",
        "\r\n",
        "if __name__ == '__main__':\r\n",
        "  math = list(input('Insert a mathematical expression \\n')) # our string is split into a list \r\n",
        "  print(f'Here are your tokens: \\n {tolkien(math)}')"
      ],
      "execution_count": 18,
      "outputs": [
        {
          "output_type": "stream",
          "text": [
            "Insert a mathematical expression \n",
            "(980   *   140(-1 - 5))\n",
            "Here are your tokens: \n",
            " ['(', '9', '8', '0', '*', '1', '4', '0', '(', '-1', '-', '5', ')', ')']\n"
          ],
          "name": "stdout"
        }
      ]
    },
    {
      "cell_type": "code",
      "metadata": {
        "colab": {
          "base_uri": "https://localhost:8080/"
        },
        "id": "D19yv1KVBY3x",
        "outputId": "eda465bc-281d-48c8-f836-4e61237831aa"
      },
      "source": [
        "# The Sieve of Eratosthenes\r\n",
        "\r\n",
        "def findPrime(x):\r\n",
        "  products = [] # container for the multiples\r\n",
        "  primes = [] # container for the primes\r\n",
        "\r\n",
        "  # looping through the inputted value separating the multiples from primes\r\n",
        "  for i in range(2, x+1): # skipping past 0 and 1\r\n",
        "    if i not in products:\r\n",
        "      primes.append(i)\r\n",
        "\r\n",
        "      for j in range(i*i, x+1, i):\r\n",
        "        products.append(j)\r\n",
        "\r\n",
        "  print(f'Here are the primes within 0 to {x} \\n')\r\n",
        "  print(*primes, sep = ', ') # print list without square brackets\r\n",
        "\r\n",
        "\r\n",
        "if __name__ == '__main__':\r\n",
        "  x = int(input('Give an upper limit for the prime numbers \\n'))\r\n",
        "  findPrime(x)"
      ],
      "execution_count": 10,
      "outputs": [
        {
          "output_type": "stream",
          "text": [
            "Give an upper limit for the prime numbers \n",
            "50\n",
            "Here are the primes within 0 to 50 \n",
            "\n",
            "2, 3, 5, 7, 11, 13, 17, 19, 23, 29, 31, 37, 41, 43, 47\n"
          ],
          "name": "stdout"
        }
      ]
    },
    {
      "cell_type": "code",
      "metadata": {
        "colab": {
          "base_uri": "https://localhost:8080/"
        },
        "id": "lNUei30fVC66",
        "outputId": "4f691fad-7c26-43d5-adb9-44f12f8453aa"
      },
      "source": [
        "# anagrams with dictionaries\r\n",
        "def anagrams(x):\r\n",
        "  vault = {}\r\n",
        "  for i in x:\r\n",
        "    if i not in vault:\r\n",
        "      vault[i] = 1\r\n",
        "    else:\r\n",
        "      vault[i] += 1\r\n",
        "  return sorted(vault.items())\r\n",
        "\r\n",
        "if __name__ == \"__main__\":\r\n",
        "  first = input('First string to be checked \\n').lower()\r\n",
        "  second = input('Second string to be checked \\n').lower()\r\n",
        "  if anagrams(first) == anagrams(second):\r\n",
        "    print(f\"{first} and {second} are anagrams\")\r\n",
        "  else:\r\n",
        "    print(\"These words are not anagrams\")\r\n"
      ],
      "execution_count": 1,
      "outputs": [
        {
          "output_type": "stream",
          "text": [
            "First string to be checked \n",
            "smoke\n",
            "Second string to be checked \n",
            "smokes\n",
            "These words are not anagrams\n"
          ],
          "name": "stdout"
        }
      ]
    },
    {
      "cell_type": "code",
      "metadata": {
        "colab": {
          "base_uri": "https://localhost:8080/"
        },
        "id": "jLAKkqh1biLQ",
        "outputId": "2717e5a5-c072-4bef-ae19-3a04eeeb9996"
      },
      "source": [
        "# Scrabble scoring with dictionaries\r\n",
        "def result(word):\r\n",
        "  count = 0\r\n",
        "  points = {\"A\" : 1, \"B\" : 3, \"C\" : 3, \"D\" : 2, \"E\" : 1, \"F\" : 4, \"G\" : 2, \"H\" : 4, \"I\" : 1, \r\n",
        "            \"J\" : 8, \"K\" : 5, \"L\" : 1, \"M\" : 3, \"N\" : 1, \"O\" : 1, \"P\" : 3, \"Q\" : 10, \"R\" : 1,\r\n",
        "            \"S\" : 1, \"T\" : 1, \"U\" : 1, \"V\" : 4, \"W\" : 4, \"X\" : 8, \"Y\" : 4, \"Z\" : 10}\r\n",
        "  for x in word:\r\n",
        "    count += points[x]\r\n",
        "  return count\r\n",
        "\r\n",
        "if __name__ == \"__main__\":\r\n",
        "  scrabble_word = input(\"Input your scrabble word for scoring \\n\").strip().upper()\r\n",
        "  print(f\"Congrats! Your word {scrabble_word} scored {result(scrabble_word)} points\")\r\n"
      ],
      "execution_count": 4,
      "outputs": [
        {
          "output_type": "stream",
          "text": [
            "Input your scrabble word for scoring \n",
            "killmonger\n",
            "Congrats! Your word KILLMONGER scored 17 points\n"
          ],
          "name": "stdout"
        }
      ]
    },
    {
      "cell_type": "code",
      "metadata": {
        "id": "Fm_jG7uNfGWk"
      },
      "source": [
        ""
      ],
      "execution_count": null,
      "outputs": []
    }
  ]
}