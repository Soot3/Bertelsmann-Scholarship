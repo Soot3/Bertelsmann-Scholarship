{
  "nbformat": 4,
  "nbformat_minor": 0,
  "metadata": {
    "colab": {
      "name": "python_challenges.ipynb",
      "provenance": [],
      "authorship_tag": "ABX9TyM2Y52U5o9ukUTavQdXHMaP",
      "include_colab_link": true
    },
    "kernelspec": {
      "name": "python3",
      "display_name": "Python 3"
    }
  },
  "cells": [
    {
      "cell_type": "markdown",
      "metadata": {
        "id": "view-in-github",
        "colab_type": "text"
      },
      "source": [
        "<a href=\"https://colab.research.google.com/github/Soot3/Bertelsmann-Scholarship/blob/main/python_challenges.ipynb\" target=\"_parent\"><img src=\"https://colab.research.google.com/assets/colab-badge.svg\" alt=\"Open In Colab\"/></a>"
      ]
    },
    {
      "cell_type": "code",
      "metadata": {
        "colab": {
          "base_uri": "https://localhost:8080/"
        },
        "id": "mGLdX-FUSYOB",
        "outputId": "9fdf238e-bf53-4e6c-8591-6c06cbbad604"
      },
      "source": [
        "#even odd inputted number\r\n",
        "inputted_no = input(\"Send in a number \\n\")\r\n",
        "if (int(inputted_no) % 2) == 0:\r\n",
        "  print(\"Even Number but you knew that already\\n\")\r\n",
        "else:\r\n",
        "  print(\"\\nOddest of numbers... where did you find this?\")"
      ],
      "execution_count": 2,
      "outputs": [
        {
          "output_type": "stream",
          "text": [
            "Send in a number \n",
            "111\n",
            "Oddest of numbers... where did you find this?\n"
          ],
          "name": "stdout"
        }
      ]
    },
    {
      "cell_type": "code",
      "metadata": {
        "colab": {
          "base_uri": "https://localhost:8080/"
        },
        "id": "jqb0mxXKTLtJ",
        "outputId": "0d45b8e9-4c32-458a-fa31-ab9f0ea87490"
      },
      "source": [
        "#vowel check\r\n",
        "inputted_letter = input(\"Give me your best letter\\n\").lower\r\n",
        "if inputted_letter in [\"a\",\"e\",\"i\",\"o\",\"u\"]:\r\n",
        "  print(\"\\n Voweeeellll!\")\r\n",
        "elif inputted_letter == \"y\":\r\n",
        "  print(\"Sometimes y can be a vowel, nost times it is a consonant\")\r\n",
        "else:\r\n",
        "  print(\"Consonant!\")\r\n"
      ],
      "execution_count": 3,
      "outputs": [
        {
          "output_type": "stream",
          "text": [
            "Give me your best letter\n",
            "1\n",
            "Consonant!\n"
          ],
          "name": "stdout"
        }
      ]
    },
    {
      "cell_type": "code",
      "metadata": {
        "colab": {
          "base_uri": "https://localhost:8080/"
        },
        "id": "UmJC1gxD5JkC",
        "outputId": "a3a8a0de-7cc7-4ca3-a1dd-7e3a68a647ea"
      },
      "source": [
        "# What kind of triangle?\r\n",
        "sides = list(map(int,input(\"\\nEnter the lengths of your triangle (Space between them): \").strip().split()))\r\n",
        "for side in sides:\r\n",
        "  if sides.count(side) == 3:\r\n",
        "    print('Equilateral triangle')\r\n",
        "    break\r\n",
        "  elif sides.count(side) == 2:\r\n",
        "    print('Isosceles triangle')\r\n",
        "    break\r\n",
        "  else:\r\n",
        "    print('Scalene triangle')\r\n",
        "    break"
      ],
      "execution_count": 1,
      "outputs": [
        {
          "output_type": "stream",
          "text": [
            "\n",
            "Enter the lengths of your triangle (Space between them): 1 1 4\n",
            "Isosceles triangle\n"
          ],
          "name": "stdout"
        }
      ]
    },
    {
      "cell_type": "code",
      "metadata": {
        "colab": {
          "base_uri": "https://localhost:8080/"
        },
        "id": "sD2I3BsY5R8n",
        "outputId": "42f32866-288e-4f04-e6be-f7deb259fdc7"
      },
      "source": [
        "# Musical notes and their frequencies\r\n",
        "vault = {'A': 440.00, 'B':493.88,'C': 261.63,'D':293.66,'E':329.63,'F':349.23,'G':392.00}\r\n",
        "octave = input('What octave are you looking for \\n')\r\n",
        "first = octave[0].upper()\r\n",
        "second = int(octave[1])\r\n",
        "frequency = round(vault[first] / (2**(4-second)), 2)\r\n",
        "print('\\n',octave,' has a frequency of ',frequency)"
      ],
      "execution_count": 2,
      "outputs": [
        {
          "output_type": "stream",
          "text": [
            "What octave are you looking for \n",
            "C8\n",
            "\n",
            " C8  has a frequency of  4186.08\n"
          ],
          "name": "stdout"
        }
      ]
    },
    {
      "cell_type": "code",
      "metadata": {
        "colab": {
          "base_uri": "https://localhost:8080/"
        },
        "id": "m1IHgQJH5m6n",
        "outputId": "3fad07b2-414e-46c4-bd30-60ce7566ad29"
      },
      "source": [
        "# Wind Chill index\r\n",
        "wind_speed = float(input(\"Enter wind speed(in Kilometer per hour) \\n\"))\r\n",
        "air_temperature = float(input(\"What's the air temperature?(in Celsius) \\n\"))\r\n",
        "wci = 13.12 + (0.6215 * air_temperature) - 11.37*(wind_speed ** 0.16) + (0.3965*air_temperature*wind_speed**0.16)\r\n",
        "if (wind_speed <= 10) & (air_temperature > 4.8):\r\n",
        "  print(\"Your wind chill index is {}\".format(round(wci),2))\r\n",
        "else:\r\n",
        "  print(\"I'm sorry, you are just not cool enough\")\r\n"
      ],
      "execution_count": 8,
      "outputs": [
        {
          "output_type": "stream",
          "text": [
            "Enter wind speed(in Kilometer per hour) \n",
            "3\n",
            "What's the air temperature?(in Celsius) \n",
            "10\n",
            "Your wind chill index is 11\n"
          ],
          "name": "stdout"
        }
      ]
    },
    {
      "cell_type": "code",
      "metadata": {
        "colab": {
          "base_uri": "https://localhost:8080/"
        },
        "id": "dlufHX34YDxM",
        "outputId": "dd5e0791-5dad-452b-939f-61d9f6dc3848"
      },
      "source": [
        "# Min, Max, median on inputted numbers\r\n",
        "\r\n",
        "numbers = list(map(int, input(\"Enter three numbers (comma seperated): \\n\").strip().split(\",\")))\r\n",
        "maximum = max(numbers)\r\n",
        "minimum = min(numbers)\r\n",
        "median = sum(numbers) - maximum - minimum\r\n",
        "print(\"\\n Maximum: {}, Minimum: {}, Median: {}\".format(maximum, minimum, median)) \r\n"
      ],
      "execution_count": 17,
      "outputs": [
        {
          "output_type": "stream",
          "text": [
            "Enter three numbers (comma seperated): \n",
            "1,4,5\n",
            "\n",
            " Maximum: 5, Minimum: 1, Median: 4\n"
          ],
          "name": "stdout"
        }
      ]
    },
    {
      "cell_type": "code",
      "metadata": {
        "colab": {
          "base_uri": "https://localhost:8080/"
        },
        "id": "sKYTZxS8aF7f",
        "outputId": "a60ed189-0866-48d8-ca41-ac4cb44d13a9"
      },
      "source": [
        "# License plate style \r\n",
        "import re\r\n",
        "\r\n",
        "licen = input(\"Your plate number please: \\n\")\r\n",
        "if re.match(r\"[A-Z]{3}\\d{3}\", licen) is not None:\r\n",
        "  print(\"Old style license plate. Update please\")\r\n",
        "elif re.match(r\"\\d{4}[A-Z]{3}\", licen):\r\n",
        "  print(\"Rocking the latest in license plate\")\r\n",
        "else:\r\n",
        "  print(\"Upper Case numbers please!!!. Check your plate\")"
      ],
      "execution_count": 22,
      "outputs": [
        {
          "output_type": "stream",
          "text": [
            "Your plate number please: \n",
            "ABC123\n",
            "Old style license plate. Update please\n"
          ],
          "name": "stdout"
        }
      ]
    },
    {
      "cell_type": "code",
      "metadata": {
        "id": "QYrUJWoFfPW0"
      },
      "source": [
        ""
      ],
      "execution_count": null,
      "outputs": []
    }
  ]
}